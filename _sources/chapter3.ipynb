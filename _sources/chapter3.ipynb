{
 "cells": [
  {
   "cell_type": "markdown",
   "id": "fb05b7c2-c848-42c8-a7fd-26633d509293",
   "metadata": {
    "tags": []
   },
   "source": [
    "## Projet 3 "
   ]
  },
  {
   "cell_type": "markdown",
   "id": "05bda877-53aa-4f05-aa64-76a997b739f5",
   "metadata": {},
   "source": [
    "### Description du projet"
   ]
  },
  {
   "cell_type": "markdown",
   "id": "e84dc747-b018-4f9d-bb82-4cc36e279175",
   "metadata": {},
   "source": [
    "faire une application avec steamligth"
   ]
  },
  {
   "cell_type": "code",
   "execution_count": null,
   "id": "53db192c-b89e-457d-9f49-0c64e60188de",
   "metadata": {},
   "outputs": [],
   "source": [
    "et les déplacer sur streamlgth share"
   ]
  }
 ],
 "metadata": {
  "kernelspec": {
   "display_name": "Python 3 (ipykernel)",
   "language": "python",
   "name": "python3"
  },
  "language_info": {
   "codemirror_mode": {
    "name": "ipython",
    "version": 3
   },
   "file_extension": ".py",
   "mimetype": "text/x-python",
   "name": "python",
   "nbconvert_exporter": "python",
   "pygments_lexer": "ipython3",
   "version": "3.10.9"
  }
 },
 "nbformat": 4,
 "nbformat_minor": 5
}
